{
 "cells": [
  {
   "cell_type": "code",
   "execution_count": 0,
   "metadata": {
    "application/vnd.databricks.v1+cell": {
     "cellMetadata": {
      "byteLimit": 2048000,
      "rowLimit": 10000
     },
     "inputWidgets": {},
     "nuid": "4e7bdde2-27a8-4986-a436-e7f1a080bd45",
     "showTitle": false,
     "tableResultSettingsMap": {},
     "title": ""
    }
   },
   "outputs": [],
   "source": [
    "\n",
    "source_bronzeFile = \"abfss://youtube-bronze@practhirusa.dfs.core.windows.net/trending/year=2025/month=09/day=15/bronzedata_20250914.csv\""
   ]
  },
  {
   "cell_type": "code",
   "execution_count": 0,
   "metadata": {
    "application/vnd.databricks.v1+cell": {
     "cellMetadata": {
      "byteLimit": 2048000,
      "rowLimit": 10000
     },
     "inputWidgets": {},
     "nuid": "2ab90fc9-8d2d-470a-826d-49d8a78a4c61",
     "showTitle": false,
     "tableResultSettingsMap": {},
     "title": ""
    }
   },
   "outputs": [],
   "source": [
    "\n",
    "Target_silverFile = \"abfss://youtube-silver@practhirusa.dfs.core.windows.net/trending/year=2025/month=09/day=15/silverdata_20250914.csv\""
   ]
  },
  {
   "cell_type": "code",
   "execution_count": 0,
   "metadata": {
    "application/vnd.databricks.v1+cell": {
     "cellMetadata": {
      "byteLimit": 2048000,
      "rowLimit": 10000
     },
     "inputWidgets": {},
     "nuid": "7bac12ab-b648-41fe-bc85-f5bc61d4ab5a",
     "showTitle": false,
     "tableResultSettingsMap": {},
     "title": ""
    }
   },
   "outputs": [],
   "source": [
    "sourceCSV_BronzeDF = spark.read.format(\"csv\") \\\n",
    "    .option(\"header\", \"true\") \\\n",
    "    .option(\"inferSchema\", \"true\") \\\n",
    "    .option(\"delimiter\", \",\") \\\n",
    "    .option(\"escape\", \"\\\"\") \\\n",
    "    .option(\"multiLine\", \"true\") \\\n",
    "    .option(\"fs.azure.account.auth.type\", \"SAS\") \\\n",
    "    .option(\"fs.azure.sas.token.provider.type\", \"org.apache.hadoop.fs.azurebfs.sas.FixedSASTokenProvider\") \\\n",
    "    .option(\"fs.azure.sas.fixed.token\", \"sv=2024-11-04&ss=bfqt&srt=sco&sp=rwdlacupyx&se=2025-09-30T00:03:45Z&st=2025-09-08T15:48:45Z&spr=https&sig=cny38M%2FKcd5Up3ev6zuq3sOG06XyG%2BfugTeakKjs%2BlE%3D\") \\\n",
    "    .load(source_bronzeFile)"
   ]
  },
  {
   "cell_type": "code",
   "execution_count": 0,
   "metadata": {
    "application/vnd.databricks.v1+cell": {
     "cellMetadata": {
      "byteLimit": 2048000,
      "rowLimit": 10000
     },
     "inputWidgets": {},
     "nuid": "a4d38f67-cae8-412d-b668-b0dd503474af",
     "showTitle": false,
     "tableResultSettingsMap": {},
     "title": ""
    }
   },
   "outputs": [],
   "source": [
    "display(sourceCSV_BronzeDF)"
   ]
  },
  {
   "cell_type": "code",
   "execution_count": 0,
   "metadata": {
    "application/vnd.databricks.v1+cell": {
     "cellMetadata": {
      "byteLimit": 2048000,
      "rowLimit": 10000
     },
     "inputWidgets": {},
     "nuid": "e8617542-de30-418b-8df2-b53ae0df44d1",
     "showTitle": false,
     "tableResultSettingsMap": {},
     "title": ""
    }
   },
   "outputs": [],
   "source": [
    "#Defining the proper data types\n",
    "from pyspark.sql.functions import col, to_timestamp\n",
    "\n",
    "silver_df = (sourceCSV_BronzeDF\n",
    "    .withColumn(\"videoId\", col(\"videoId\").cast(\"string\"))\n",
    "    .withColumn(\"title\", col(\"title\").cast(\"string\"))\n",
    "    .withColumn(\"views\", col(\"views\").cast(\"bigint\"))\n",
    "    .withColumn(\"likes\", col(\"likes\").cast(\"bigint\"))\n",
    "    .withColumn(\"comments\", col(\"comments\").cast(\"bigint\"))\n",
    "    .withColumn(\"publishedAt\", to_timestamp(\"publishedAt\"))\n",
    ")\n"
   ]
  },
  {
   "cell_type": "code",
   "execution_count": 0,
   "metadata": {
    "application/vnd.databricks.v1+cell": {
     "cellMetadata": {
      "byteLimit": 2048000,
      "rowLimit": 10000
     },
     "inputWidgets": {},
     "nuid": "09c52ad6-fee7-49ee-ba0e-529bf0462270",
     "showTitle": false,
     "tableResultSettingsMap": {},
     "title": ""
    }
   },
   "outputs": [],
   "source": [
    "#RENAME COLUMNS\n",
    "silver_df = silver_df.withColumnRenamed(\"videoId\", \"VideoID\") \\\n",
    "    .withColumnRenamed(\"title\", \"Title\") \\\n",
    "    .withColumnRenamed(\"publishedAt\", \"Published_at\") \\\n",
    "    .withColumnRenamed(\"views\", \"Views\") \\\n",
    "    .withColumnRenamed(\"likes\", \"Likes\") \\\n",
    "    .withColumnRenamed(\"comments\", \"Comments\")"
   ]
  },
  {
   "cell_type": "code",
   "execution_count": 0,
   "metadata": {
    "application/vnd.databricks.v1+cell": {
     "cellMetadata": {
      "byteLimit": 2048000,
      "rowLimit": 10000
     },
     "inputWidgets": {},
     "nuid": "b4de8e65-0ef6-4fd2-8810-45038e6038a7",
     "showTitle": false,
     "tableResultSettingsMap": {},
     "title": ""
    }
   },
   "outputs": [],
   "source": [
    "#REMOVE DUPLICATES\n",
    "silver_df = silver_df.dropDuplicates([\"videoId\"])\n",
    "display(silver_df)"
   ]
  },
  {
   "cell_type": "code",
   "execution_count": 0,
   "metadata": {
    "application/vnd.databricks.v1+cell": {
     "cellMetadata": {
      "byteLimit": 2048000,
      "rowLimit": 10000
     },
     "inputWidgets": {},
     "nuid": "e3e15537-65eb-4f70-bfcf-05361a4be043",
     "showTitle": false,
     "tableResultSettingsMap": {},
     "title": ""
    }
   },
   "outputs": [],
   "source": [
    "#Ensure no NULLs in critical fields.\n",
    "silver_df = silver_df.fillna({\n",
    "    \"views\": 0,\n",
    "    \"likes\": 0,\n",
    "    \"comments\": 0\n",
    "}).filter(col(\"videoId\").isNotNull())\n"
   ]
  },
  {
   "cell_type": "markdown",
   "metadata": {
    "application/vnd.databricks.v1+cell": {
     "cellMetadata": {
      "byteLimit": 2048000,
      "rowLimit": 10000
     },
     "inputWidgets": {},
     "nuid": "d8f039a4-7a18-4467-a639-2fac69e27f21",
     "showTitle": false,
     "tableResultSettingsMap": {},
     "title": ""
    }
   },
   "source": [
    "#SparkSQL"
   ]
  },
  {
   "cell_type": "code",
   "execution_count": 0,
   "metadata": {
    "application/vnd.databricks.v1+cell": {
     "cellMetadata": {
      "byteLimit": 2048000,
      "rowLimit": 10000
     },
     "inputWidgets": {},
     "nuid": "a2f44c25-224d-4d68-95a9-21bb0ce9bacb",
     "showTitle": false,
     "tableResultSettingsMap": {},
     "title": ""
    }
   },
   "outputs": [],
   "source": [
    "silver_df.createOrReplaceTempView(\"silver_view\")\n"
   ]
  },
  {
   "cell_type": "code",
   "execution_count": 0,
   "metadata": {
    "application/vnd.databricks.v1+cell": {
     "cellMetadata": {
      "byteLimit": 2048000,
      "implicitDf": true,
      "rowLimit": 10000
     },
     "inputWidgets": {},
     "nuid": "45636e16-9c0f-4260-bc8d-325f5cae8dca",
     "showTitle": false,
     "tableResultSettingsMap": {},
     "title": ""
    }
   },
   "outputs": [],
   "source": [
    "%sql\n",
    "SELECT * FROM silver_view\n",
    "\n",
    "\n"
   ]
  },
  {
   "cell_type": "code",
   "execution_count": 0,
   "metadata": {
    "application/vnd.databricks.v1+cell": {
     "cellMetadata": {
      "byteLimit": 2048000,
      "implicitDf": true,
      "rowLimit": 10000
     },
     "inputWidgets": {},
     "nuid": "4ba7040d-b82b-4e23-9190-a95760092558",
     "showTitle": false,
     "tableResultSettingsMap": {},
     "title": ""
    }
   },
   "outputs": [],
   "source": [
    "%sql\n",
    "SELECT \n",
    "    VideoID,\n",
    "    REGEXP_REPLACE(TRIM(Title), '[^a-zA-Z0-9 ]', '') AS Title_Name,\n",
    "    Views, Likes, Comments, Published_at\n",
    "FROM silver_view;\n"
   ]
  },
  {
   "cell_type": "code",
   "execution_count": 0,
   "metadata": {
    "application/vnd.databricks.v1+cell": {
     "cellMetadata": {
      "byteLimit": 2048000,
      "implicitDf": true,
      "rowLimit": 10000
     },
     "inputWidgets": {},
     "nuid": "ef59f0dd-1308-4a09-a8b8-1acd97f6438f",
     "showTitle": false,
     "tableResultSettingsMap": {},
     "title": ""
    }
   },
   "outputs": [],
   "source": [
    "%sql\n",
    "SELECT \n",
    "    *,\n",
    "    YEAR(Published_at) AS year,\n",
    "    MONTH(Published_at) AS month,\n",
    "    CASE WHEN Views > 0 THEN Likes/Views ELSE 0 END AS engagementRate\n",
    "FROM silver_view;"
   ]
  },
  {
   "cell_type": "code",
   "execution_count": 0,
   "metadata": {
    "application/vnd.databricks.v1+cell": {
     "cellMetadata": {
      "byteLimit": 2048000,
      "rowLimit": 10000
     },
     "inputWidgets": {},
     "nuid": "30e687a9-1bfa-4855-9552-330ebc3f85c9",
     "showTitle": false,
     "tableResultSettingsMap": {},
     "title": ""
    }
   },
   "outputs": [],
   "source": [
    "# Read the temp view into a DataFrame\n",
    "silver_df = spark.sql(\"SELECT * FROM silver_view\")"
   ]
  },
  {
   "cell_type": "code",
   "execution_count": 0,
   "metadata": {
    "application/vnd.databricks.v1+cell": {
     "cellMetadata": {
      "byteLimit": 2048000,
      "rowLimit": 10000
     },
     "inputWidgets": {},
     "nuid": "893ff6e2-7347-4eab-a7be-05e106e2743e",
     "showTitle": false,
     "tableResultSettingsMap": {},
     "title": ""
    }
   },
   "outputs": [],
   "source": [
    "display(silver_df)"
   ]
  },
  {
   "cell_type": "code",
   "execution_count": 0,
   "metadata": {
    "application/vnd.databricks.v1+cell": {
     "cellMetadata": {
      "byteLimit": 2048000,
      "rowLimit": 10000
     },
     "inputWidgets": {},
     "nuid": "6a2b38f1-c0ed-4175-b1c5-66da281d81e2",
     "showTitle": false,
     "tableResultSettingsMap": {},
     "title": ""
    }
   },
   "outputs": [],
   "source": [
    "from pyspark.sql.functions import regexp_replace, trim\n",
    "\n",
    "silver_df = silver_df.withColumn(\"title\", trim(regexp_replace(\"Title\", \"[^a-zA-Z0-9 ]\", \"\")))"
   ]
  },
  {
   "cell_type": "code",
   "execution_count": 0,
   "metadata": {
    "application/vnd.databricks.v1+cell": {
     "cellMetadata": {
      "byteLimit": 2048000,
      "rowLimit": 10000
     },
     "inputWidgets": {},
     "nuid": "5260e908-9b95-4a3d-b572-72ad2344b4f7",
     "showTitle": false,
     "tableResultSettingsMap": {},
     "title": ""
    }
   },
   "outputs": [],
   "source": [
    "display(silver_df)"
   ]
  },
  {
   "cell_type": "code",
   "execution_count": 0,
   "metadata": {
    "application/vnd.databricks.v1+cell": {
     "cellMetadata": {
      "byteLimit": 2048000,
      "rowLimit": 10000
     },
     "inputWidgets": {},
     "nuid": "42be21c5-6891-49f8-aaf5-ce9a1bf58979",
     "showTitle": false,
     "tableResultSettingsMap": {},
     "title": ""
    }
   },
   "outputs": [],
   "source": [
    "from pyspark.sql.functions import to_date, year, month, dayofmonth, date_format, col\n",
    "\n",
    "# Format as yyyyMMdd\n",
    "silver_df = silver_df.withColumn(\"Published_at\", date_format((\"Published_at\"), \"yyyy-MM-dd\"))\n"
   ]
  },
  {
   "cell_type": "code",
   "execution_count": 0,
   "metadata": {
    "application/vnd.databricks.v1+cell": {
     "cellMetadata": {
      "byteLimit": 2048000,
      "rowLimit": 10000
     },
     "inputWidgets": {},
     "nuid": "c71e2378-96c1-4575-8735-836c79a5fd45",
     "showTitle": false,
     "tableResultSettingsMap": {},
     "title": ""
    }
   },
   "outputs": [],
   "source": [
    "display(silver_df)"
   ]
  },
  {
   "cell_type": "code",
   "execution_count": 0,
   "metadata": {
    "application/vnd.databricks.v1+cell": {
     "cellMetadata": {
      "byteLimit": 2048000,
      "rowLimit": 10000
     },
     "inputWidgets": {},
     "nuid": "8ea8a914-d482-4f20-a283-028ec98e7221",
     "showTitle": false,
     "tableResultSettingsMap": {},
     "title": ""
    }
   },
   "outputs": [],
   "source": [
    "silver_df.write.format(\"csv\") \\\n",
    "    .option(\"header\", \"true\") \\\n",
    "    .option(\"inferSchema\", \"true\") \\\n",
    "    .option(\"delimiter\", \",\") \\\n",
    "    .option(\"fs.azure.account.auth.type\", \"SAS\") \\\n",
    "    .option(\"fs.azure.sas.token.provider.type\", \"org.apache.hadoop.fs.azurebfs.sas.FixedSASTokenProvider\") \\\n",
    "    .option(\"fs.azure.sas.fixed.token\", \"sv=2024-11-04&ss=bfqt&srt=sco&sp=rwdlacupyx&se=2025-09-30T00:03:45Z&st=2025-09-08T15:48:45Z&spr=https&sig=cny38M%2FKcd5Up3ev6zuq3sOG06XyG%2BfugTeakKjs%2BlE%3D\") \\\n",
    "    .mode(\"overwrite\").save(Target_silverFile)"
   ]
  }
 ],
 "metadata": {
  "application/vnd.databricks.v1+notebook": {
   "computePreferences": null,
   "dashboards": [],
   "environmentMetadata": {
    "base_environment": "",
    "environment_version": "3"
   },
   "inputWidgetPreferences": null,
   "language": "python",
   "notebookMetadata": {
    "mostRecentlyExecutedCommandWithImplicitDF": {
     "commandId": 4863165976253828,
     "dataframes": [
      "_sqldf"
     ]
    },
    "pythonIndentUnit": 4
   },
   "notebookName": "Silver-Layer-rawYoutubeapi.dbc",
   "widgets": {}
  },
  "language_info": {
   "name": "python"
  }
 },
 "nbformat": 4,
 "nbformat_minor": 0
}
