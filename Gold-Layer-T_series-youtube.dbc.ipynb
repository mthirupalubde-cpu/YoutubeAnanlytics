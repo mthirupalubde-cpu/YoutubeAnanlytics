{
 "cells": [
  {
   "cell_type": "code",
   "execution_count": 0,
   "metadata": {
    "application/vnd.databricks.v1+cell": {
     "cellMetadata": {
      "byteLimit": 2048000,
      "rowLimit": 10000
     },
     "inputWidgets": {},
     "nuid": "4ddb6ecd-8e6f-42de-9ab3-c0a8afb3f52f",
     "showTitle": false,
     "tableResultSettingsMap": {},
     "title": ""
    }
   },
   "outputs": [],
   "source": [
    "sourcesilverCSVFile = \"abfss://youtube-silver@practhirusa.dfs.core.windows.net/trending/year=2025/month=09/day=15/silverdata_20250914.csv\""
   ]
  },
  {
   "cell_type": "code",
   "execution_count": 0,
   "metadata": {
    "application/vnd.databricks.v1+cell": {
     "cellMetadata": {
      "byteLimit": 2048000,
      "rowLimit": 10000
     },
     "inputWidgets": {},
     "nuid": "c4007286-0749-4fb5-9cf8-d5dd7c267b1c",
     "showTitle": false,
     "tableResultSettingsMap": {},
     "title": ""
    }
   },
   "outputs": [],
   "source": [
    "Target_GoldFile = \"abfss://youtube-gold@practhirusa.dfs.core.windows.net/trending/year=2025/month=09/day=15/golddata_20250914.csv\""
   ]
  },
  {
   "cell_type": "code",
   "execution_count": 0,
   "metadata": {
    "application/vnd.databricks.v1+cell": {
     "cellMetadata": {
      "byteLimit": 2048000,
      "rowLimit": 10000
     },
     "inputWidgets": {},
     "nuid": "c348d720-288b-46f8-b117-c0014f77ab3d",
     "showTitle": false,
     "tableResultSettingsMap": {},
     "title": ""
    }
   },
   "outputs": [],
   "source": [
    "sourceCSV_silverDF = spark.read.format(\"csv\") \\\n",
    "    .option(\"header\", \"true\") \\\n",
    "    .option(\"inferSchema\", \"true\") \\\n",
    "    .option(\"delimiter\", \",\") \\\n",
    "    .option(\"escape\", \"\\\"\") \\\n",
    "    .option(\"multiLine\", \"true\") \\\n",
    "    .option(\"fs.azure.account.auth.type\", \"SAS\") \\\n",
    "    .option(\"fs.azure.sas.token.provider.type\", \"org.apache.hadoop.fs.azurebfs.sas.FixedSASTokenProvider\") \\\n",
    "    .option(\"fs.azure.sas.fixed.token\", \"sv=2024-11-04&ss=bfqt&srt=sco&sp=rwdlacupyx&se=2025-09-30T00:03:45Z&st=2025-09-08T15:48:45Z&spr=https&sig=cny38M%2FKcd5Up3ev6zuq3sOG06XyG%2BfugTeakKjs%2BlE%3D\") \\\n",
    "    .load(sourcesilverCSVFile)"
   ]
  },
  {
   "cell_type": "code",
   "execution_count": 0,
   "metadata": {
    "application/vnd.databricks.v1+cell": {
     "cellMetadata": {
      "byteLimit": 2048000,
      "rowLimit": 10000
     },
     "inputWidgets": {},
     "nuid": "9b0d3ead-54fd-4558-a5e8-61a0f2fb12d8",
     "showTitle": false,
     "tableResultSettingsMap": {},
     "title": ""
    }
   },
   "outputs": [],
   "source": [
    "display(sourceCSV_silverDF)"
   ]
  },
  {
   "cell_type": "code",
   "execution_count": 0,
   "metadata": {
    "application/vnd.databricks.v1+cell": {
     "cellMetadata": {
      "byteLimit": 2048000,
      "rowLimit": 10000
     },
     "inputWidgets": {},
     "nuid": "dad8a0c2-cb54-4bd6-8728-c3d34ff5ab4f",
     "showTitle": false,
     "tableResultSettingsMap": {},
     "title": ""
    }
   },
   "outputs": [],
   "source": [
    "from pyspark.sql.functions import sum, col, count\n",
    "\n",
    "gold_daily = (sourceCSV_silverDF\n",
    "    .groupBy(\"Published_at\")\n",
    "    .agg(\n",
    "        sum(\"Views\").alias(\"total_views\"),\n",
    "        sum(\"Likes\").alias(\"total_likes\"),\n",
    "        sum(\"Comments\").alias(\"total_comments\"),\n",
    "        count(\"VideoID\").alias(\"videos_uploaded\")\n",
    "    )\n",
    "    .orderBy(\"Published_at\")\n",
    ")\n",
    "\n"
   ]
  },
  {
   "cell_type": "code",
   "execution_count": 0,
   "metadata": {
    "application/vnd.databricks.v1+cell": {
     "cellMetadata": {
      "byteLimit": 2048000,
      "rowLimit": 10000
     },
     "inputWidgets": {},
     "nuid": "20196d3d-e2b3-4648-8b03-1e6dd8f7f332",
     "showTitle": false,
     "tableResultSettingsMap": {},
     "title": ""
    }
   },
   "outputs": [],
   "source": [
    "gold_daily.show() #-Only Showing Top 20 Rows"
   ]
  },
  {
   "cell_type": "code",
   "execution_count": 0,
   "metadata": {
    "application/vnd.databricks.v1+cell": {
     "cellMetadata": {
      "byteLimit": 2048000,
      "rowLimit": 10000
     },
     "inputWidgets": {},
     "nuid": "5bc2caab-eacf-4187-b0ea-af3170b0995e",
     "showTitle": false,
     "tableResultSettingsMap": {},
     "title": ""
    }
   },
   "outputs": [],
   "source": [
    "from pyspark.sql.window import Window\n",
    "from pyspark.sql.functions import row_number, desc, col\n",
    "\n",
    "# Window across all rows ordered by likes\n",
    "windowSpec = Window.orderBy(desc(\"total_likes\"))\n",
    "\n",
    "# Apply row_number and filter top 3\n",
    "top3_videos = gold_daily.withColumn(\n",
    "    \"rank\", row_number().over(windowSpec)\n",
    ").filter(col(\"rank\") <= 3) \\\n",
    " .select(\"Published_at\", \"total_views\", \"total_likes\", \"total_comments\", \"videos_uploaded\", \"rank\")\n",
    "\n",
    "top3_videos.show()\n",
    "\n"
   ]
  },
  {
   "cell_type": "code",
   "execution_count": 0,
   "metadata": {
    "application/vnd.databricks.v1+cell": {
     "cellMetadata": {
      "byteLimit": 2048000,
      "rowLimit": 10000
     },
     "inputWidgets": {},
     "nuid": "e628281e-05ce-4d9e-b1c1-a83dd7ff1327",
     "showTitle": false,
     "tableResultSettingsMap": {},
     "title": ""
    }
   },
   "outputs": [],
   "source": [
    "from pyspark.sql.functions import current_timestamp, date_format\n",
    "#ADD LOAD DATE COLUN\n",
    "from pyspark.sql.functions import current_date, date_format\n",
    "\n",
    "# generate load_date as real DATE\n",
    "top3_videos = top3_videos.withColumn(\"load_date\", current_date()).withColumn(\"load_date\", date_format(\"load_date\", \"yyyy-MM-dd\"))\n"
   ]
  },
  {
   "cell_type": "code",
   "execution_count": 0,
   "metadata": {
    "application/vnd.databricks.v1+cell": {
     "cellMetadata": {
      "byteLimit": 2048000,
      "rowLimit": 10000
     },
     "inputWidgets": {},
     "nuid": "ade39240-e260-49c7-ad99-91cc321c367e",
     "showTitle": false,
     "tableResultSettingsMap": {
      "0": {
       "dataGridStateBlob": "{\"version\":1,\"tableState\":{\"columnPinning\":{\"left\":[\"#row_number#\"],\"right\":[]},\"columnSizing\":{},\"columnVisibility\":{}},\"settings\":{\"columns\":{}},\"syncTimestamp\":1757942013019}",
       "filterBlob": null,
       "queryPlanFiltersBlob": null,
       "tableResultIndex": 0
      }
     },
     "title": ""
    }
   },
   "outputs": [],
   "source": [
    "display(top3_videos)"
   ]
  },
  {
   "cell_type": "code",
   "execution_count": 0,
   "metadata": {
    "application/vnd.databricks.v1+cell": {
     "cellMetadata": {
      "byteLimit": 2048000,
      "rowLimit": 10000
     },
     "inputWidgets": {},
     "nuid": "f71d60d1-fdb0-42a3-9e75-66540fd23520",
     "showTitle": false,
     "tableResultSettingsMap": {},
     "title": ""
    }
   },
   "outputs": [],
   "source": [
    "top3_videos.write.format(\"csv\") \\\n",
    "    .option(\"header\", \"true\") \\\n",
    "    .option(\"inferSchema\", \"true\") \\\n",
    "    .option(\"fs.azure.account.auth.type\", \"SAS\") \\\n",
    "    .option(\"fs.azure.sas.token.provider.type\", \"org.apache.hadoop.fs.azurebfs.sas.FixedSASTokenProvider\") \\\n",
    "    .option(\"fs.azure.sas.fixed.token\", \"sv=2024-11-04&ss=bfqt&srt=sco&sp=rwdlacupyx&se=2025-09-30T00:03:45Z&st=2025-09-08T15:48:45Z&spr=https&sig=cny38M%2FKcd5Up3ev6zuq3sOG06XyG%2BfugTeakKjs%2BlE%3D\") \\\n",
    "    .mode(\"overwrite\").save(Target_GoldFile)"
   ]
  }
 ],
 "metadata": {
  "application/vnd.databricks.v1+notebook": {
   "computePreferences": null,
   "dashboards": [],
   "environmentMetadata": {
    "base_environment": "",
    "environment_version": "3"
   },
   "inputWidgetPreferences": null,
   "language": "python",
   "notebookMetadata": {
    "pythonIndentUnit": 4
   },
   "notebookName": "Gold-Layer-T_series-youtube.dbc",
   "widgets": {}
  },
  "language_info": {
   "name": "python"
  }
 },
 "nbformat": 4,
 "nbformat_minor": 0
}
